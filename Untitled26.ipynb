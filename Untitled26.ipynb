{
  "nbformat": 4,
  "nbformat_minor": 0,
  "metadata": {
    "colab": {
      "provenance": []
    },
    "kernelspec": {
      "name": "python3",
      "display_name": "Python 3"
    },
    "language_info": {
      "name": "python"
    }
  },
  "cells": [
    {
      "cell_type": "code",
      "execution_count": 1,
      "metadata": {
        "id": "AXLDnkl_fzio"
      },
      "outputs": [],
      "source": [
        "log = '''\n",
        "[2025-02-20 14:32:10] INFO - Agent Response: \"Hello! How can I help you today?\"\n",
        "[2025-02-20 14:33:15] ERROR - Model Timeout after 5000ms\n",
        "[2025-02-20 14:34:02] INFO - Agent Response: \"I'm sorry, I didn't understand that.\"\n",
        "'''\n"
      ]
    },
    {
      "cell_type": "code",
      "source": [
        "import re\n",
        "from collections import defaultdict, Counter"
      ],
      "metadata": {
        "id": "YbSguFetf30P"
      },
      "execution_count": 2,
      "outputs": []
    },
    {
      "cell_type": "code",
      "source": [
        "log_patttern = re.compile(r\"\\[(.*?)\\]\\s+(\\w+)\\s+-\\s+(.*)\")\n",
        "agent_response_pattern = re.compile(r'Agent Response: \"(.*?)\"')"
      ],
      "metadata": {
        "id": "mT54ttJhf5RT"
      },
      "execution_count": 3,
      "outputs": []
    },
    {
      "cell_type": "code",
      "source": [
        "message_counts = defaultdict(int)\n",
        "agent_responses = Counter()\n",
        "error_messages = Counter()"
      ],
      "metadata": {
        "id": "q8WzuhIof66d"
      },
      "execution_count": 4,
      "outputs": []
    },
    {
      "cell_type": "code",
      "source": [
        "for line in log.strip().splitlines():\n",
        "  match_p = log_patttern.match(line.strip())\n",
        "  if not match_p:\n",
        "    continue\n",
        "\n",
        "  _, level, message = match_p.groups()\n",
        "  message_counts[level] += 1\n",
        "\n",
        "  if level == \"INFO\":\n",
        "    response_match = agent_response_pattern.search(message)\n",
        "    if response_match:\n",
        "      response_text = response_match.group(1)\n",
        "      agent_responses[response_text] += 1\n",
        "\n",
        "  if level == \"ERROR\":\n",
        "    error_messages[message.strip()] += 1"
      ],
      "metadata": {
        "id": "7Lyzfic-gArG"
      },
      "execution_count": 5,
      "outputs": []
    },
    {
      "cell_type": "markdown",
      "source": [
        "Example Output:\n",
        "Log Summary:\n",
        "- INFO messages: 42\n",
        "- ERROR messages: 8\n",
        "- WARNING messages: 5\n",
        "\n",
        "Top 3 AI Responses:\n",
        "1. \"Hello! How can I help you today?\" (12 times)\n",
        "2. \"I'm sorry, I didn't understand that.\" (7 times)\n",
        "3. \"Please provide more details.\" (5 times)\n",
        "\n",
        "Most Common Errors:\n",
        "1. Model Timeout after 5000ms (3 times)\n",
        "2. API Connection Failure (2 times)"
      ],
      "metadata": {
        "id": "-huzuUhygEvH"
      }
    },
    {
      "cell_type": "code",
      "source": [
        "print(\"Log Summary:\")\n",
        "print(f\"- INFO messages: {message_counts['INFO']}\")\n",
        "print(f\"- ERROR messages: {message_counts['ERROR']}\")\n",
        "print(f\"- WARNING messages: {message_counts['WARNING']}\")\n",
        "\n",
        "print(\"Top 3 AI Responses:\")\n",
        "for i, (response, count) in enumerate(agent_responses.most_common(3), 1):\n",
        "  print(f\"{i}. \\\"{response}\\\" ({count} times)\")\n",
        "\n",
        "print(\"\\nMost Common Errors:\")\n",
        "for i, (err, count) in enumerate(error_messages.most_common(3), 1):\n",
        "  print(f\"{i}. {err} ({count} times)\")"
      ],
      "metadata": {
        "colab": {
          "base_uri": "https://localhost:8080/"
        },
        "id": "qpmDUAm2gD5C",
        "outputId": "2a8d3aab-851a-48b6-bc29-4f062dfd7e1a"
      },
      "execution_count": 6,
      "outputs": [
        {
          "output_type": "stream",
          "name": "stdout",
          "text": [
            "Log Summary:\n",
            "- INFO messages: 2\n",
            "- ERROR messages: 1\n",
            "- WARNING messages: 0\n",
            "Top 3 AI Responses:\n",
            "1. \"Hello! How can I help you today?\" (1 times)\n",
            "2. \"I'm sorry, I didn't understand that.\" (1 times)\n",
            "\n",
            "Most Common Errors:\n",
            "1. Model Timeout after 5000ms (1 times)\n"
          ]
        }
      ]
    }
  ]
}